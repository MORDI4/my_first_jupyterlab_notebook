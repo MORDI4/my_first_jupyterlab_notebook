{
 "cells": [
  {
   "cell_type": "markdown",
   "id": "f5207944-9c53-412a-aad3-ace0077f6d55",
   "metadata": {},
   "source": [
    "# My first notebook\n",
    "This is my first notebook. This is made with Markdown."
   ]
  },
  {
   "cell_type": "code",
   "execution_count": 3,
   "id": "1d9d8e77-6618-42a6-b267-d72e2d6e0eb2",
   "metadata": {},
   "outputs": [
    {
     "name": "stdout",
     "output_type": "stream",
     "text": [
      "This is another cell, this text was printed by Python\n"
     ]
    }
   ],
   "source": [
    "print(\"This is another cell, this text was printed by Python\")"
   ]
  },
  {
   "cell_type": "code",
   "execution_count": null,
   "id": "ad3033da-ea98-4ac0-a015-c3c99ce62b57",
   "metadata": {},
   "outputs": [],
   "source": []
  }
 ],
 "metadata": {
  "kernelspec": {
   "display_name": "Python 3 (ipykernel)",
   "language": "python",
   "name": "python3"
  },
  "language_info": {
   "codemirror_mode": {
    "name": "ipython",
    "version": 3
   },
   "file_extension": ".py",
   "mimetype": "text/x-python",
   "name": "python",
   "nbconvert_exporter": "python",
   "pygments_lexer": "ipython3",
   "version": "3.13.7"
  }
 },
 "nbformat": 4,
 "nbformat_minor": 5
}
