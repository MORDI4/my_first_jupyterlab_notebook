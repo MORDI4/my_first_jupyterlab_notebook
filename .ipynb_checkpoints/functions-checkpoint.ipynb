{
 "cells": [
  {
   "cell_type": "markdown",
   "id": "ebb92663-bea9-4685-b356-54c867de7d59",
   "metadata": {},
   "source": [
    "# Funkcje w Pythonie\n",
    "Chce Ci zaprezentować tutaj jak działają funkcje w Pytohnie krok po kroku."
   ]
  },
  {
   "cell_type": "markdown",
   "id": "12098e56-3351-46a1-a944-2205d504e644",
   "metadata": {},
   "source": [
    "Pierwszym krokiem, będzie deklaracja takiej funkcji w ten sposób:"
   ]
  },
  {
   "cell_type": "code",
   "execution_count": 3,
   "id": "82b26b8e-f664-4fcb-b36b-482e513cd82c",
   "metadata": {},
   "outputs": [],
   "source": [
    "def funkcja(): pass"
   ]
  },
  {
   "cell_type": "markdown",
   "id": "7c0a8149-fa32-4bcd-865e-4d7cae9f9244",
   "metadata": {},
   "source": [
    "Następnie możemy w niej umieścić kod jaki chcemy żeby wykonywała. Niech nasza funkcja wykonuje proste mnożenie (warto nazywać funkcje na podstawie tego co robią):"
   ]
  },
  {
   "cell_type": "code",
   "execution_count": 4,
   "id": "41bebe33-23bf-4bf6-ba4c-b2633214f401",
   "metadata": {},
   "outputs": [],
   "source": [
    "def hello(): print(\"Hello\")"
   ]
  },
  {
   "cell_type": "markdown",
   "id": "29a1ec75-b499-456e-96bc-695b644b4d9e",
   "metadata": {},
   "source": [
    "Jak widzisz ta funkcje służy tylko do wyświetlenia napisu 'Hello'. Żeby ją wywołać musisz napisać taki kod:"
   ]
  },
  {
   "cell_type": "code",
   "execution_count": 6,
   "id": "4d14eaf7-b8a2-408e-88bb-7a606c1ea476",
   "metadata": {},
   "outputs": [
    {
     "name": "stdout",
     "output_type": "stream",
     "text": [
      "Hello\n"
     ]
    }
   ],
   "source": [
    "hello()"
   ]
  },
  {
   "cell_type": "markdown",
   "id": "b9f708e9-0ef2-4fd2-a2d6-42a72c55e438",
   "metadata": {},
   "source": [
    "Jak sam widzisz, funkcja napisała na 'Hello'."
   ]
  }
 ],
 "metadata": {
  "kernelspec": {
   "display_name": "Python 3 (ipykernel)",
   "language": "python",
   "name": "python3"
  },
  "language_info": {
   "codemirror_mode": {
    "name": "ipython",
    "version": 3
   },
   "file_extension": ".py",
   "mimetype": "text/x-python",
   "name": "python",
   "nbconvert_exporter": "python",
   "pygments_lexer": "ipython3",
   "version": "3.13.7"
  }
 },
 "nbformat": 4,
 "nbformat_minor": 5
}
